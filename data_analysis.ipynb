{
 "cells": [
  {
   "cell_type": "code",
   "execution_count": 12,
   "metadata": {},
   "outputs": [
    {
     "name": "stdout",
     "output_type": "stream",
     "text": [
      "MetrLA(length=34272, n_nodes=207, n_channels=1)\n"
     ]
    }
   ],
   "source": [
    "from tsl.datasets import MetrLA\n",
    "\n",
    "\n",
    "dataset = MetrLA(root='/tsl/data')\n",
    "\n",
    "print(dataset)"
   ]
  },
  {
   "cell_type": "code",
   "execution_count": 13,
   "metadata": {},
   "outputs": [],
   "source": [
    "import numpy as np\n",
    "import pandas as pd\n",
    "import random\n",
    "random.seed(42)"
   ]
  },
  {
   "cell_type": "code",
   "execution_count": 14,
   "metadata": {},
   "outputs": [
    {
     "name": "stdout",
     "output_type": "stream",
     "text": [
      "(207, 207)\n",
      "[inf inf inf inf inf inf inf inf inf inf inf inf inf inf inf inf inf inf\n",
      " inf inf inf inf inf inf inf inf inf inf inf inf inf inf inf inf inf inf\n",
      " inf inf inf inf inf inf inf inf inf inf inf inf inf inf inf inf inf inf\n",
      " inf inf inf inf inf inf inf inf inf inf inf inf inf inf inf inf inf inf\n",
      " inf inf inf inf inf inf inf inf inf inf inf inf inf inf inf inf inf inf\n",
      " inf inf inf inf inf inf inf inf inf inf inf inf inf inf inf inf inf inf\n",
      " inf inf inf inf inf inf inf inf inf inf inf inf inf inf inf inf inf inf\n",
      " inf inf inf inf inf inf inf inf inf inf inf inf inf inf inf inf inf inf\n",
      " inf inf inf inf inf inf inf inf inf inf inf inf inf inf inf inf inf inf\n",
      " inf inf inf inf inf inf inf inf inf inf inf inf inf inf inf inf inf inf\n",
      " inf inf inf inf inf inf inf inf inf inf inf inf inf inf inf inf inf inf\n",
      " inf inf inf inf inf inf inf inf inf]\n"
     ]
    }
   ],
   "source": [
    "distances = dataset.dist\n",
    "print(distances.shape)\n",
    "print(sum(distances))"
   ]
  },
  {
   "cell_type": "markdown",
   "metadata": {},
   "source": [
    "## TODO:\n",
    "\n",
    "1. Make masks with random seed.\n",
    "2. Save masks to csv_file\n",
    "3. Save masked datasets \n",
    "4. push to git\n",
    "5. Finish KNN implementation\n",
    "6. Compute euclidean distance metrics from tsl/data/locations\n",
    "7. Fill in text in report"
   ]
  },
  {
   "cell_type": "markdown",
   "metadata": {},
   "source": [
    "##"
   ]
  },
  {
   "cell_type": "code",
   "execution_count": 15,
   "metadata": {},
   "outputs": [
    {
     "name": "stdout",
     "output_type": "stream",
     "text": [
      "(42849,)\n",
      "31096\n"
     ]
    }
   ],
   "source": [
    "print(np.reshape(distances, (-1, )).shape)\n",
    "print(sum(np.isinf((np.reshape(distances, (-1, ))))))"
   ]
  },
  {
   "cell_type": "code",
   "execution_count": 16,
   "metadata": {},
   "outputs": [
    {
     "data": {
      "text/plain": [
       "<bound method DataFrame.info of nodes                   773869     767541     767542     717447     717446  \\\n",
       "channels                     0          0          0          0          0   \n",
       "2012-03-01 00:00:00  64.375000  67.625000  67.125000  61.500000  66.875000   \n",
       "2012-03-01 00:05:00  62.666668  68.555557  65.444443  62.444443  64.444443   \n",
       "2012-03-01 00:10:00  64.000000  63.750000  60.000000  59.000000  66.500000   \n",
       "2012-03-01 00:15:00  64.000000  63.750000  60.000000  59.000000  66.500000   \n",
       "2012-03-01 00:20:00  64.000000  63.750000  60.000000  59.000000  66.500000   \n",
       "...                        ...        ...        ...        ...        ...   \n",
       "2012-06-27 23:35:00  65.000000  65.888885  68.555557  61.666668  32.833332   \n",
       "2012-06-27 23:40:00  61.375000  65.625000  66.500000  62.750000  32.833332   \n",
       "2012-06-27 23:45:00  67.000000  59.666668  69.555557  61.000000  32.833332   \n",
       "2012-06-27 23:50:00  66.750000  62.250000  66.000000  59.625000  32.833332   \n",
       "2012-06-27 23:55:00  65.111115  66.888885  66.777779  61.222221  32.833332   \n",
       "\n",
       "nodes                   717445     773062     767620     737529     717816  \\\n",
       "channels                     0          0          0          0          0   \n",
       "2012-03-01 00:00:00  68.750000  65.125000  67.125000  59.625000  62.750000   \n",
       "2012-03-01 00:05:00  68.111115  65.000000  65.000000  57.444443  63.333332   \n",
       "2012-03-01 00:10:00  66.250000  64.500000  64.250000  63.875000  65.375000   \n",
       "2012-03-01 00:15:00  66.250000  64.500000  64.250000  63.875000  65.375000   \n",
       "2012-03-01 00:20:00  66.250000  64.500000  64.250000  63.875000  65.375000   \n",
       "...                        ...        ...        ...        ...        ...   \n",
       "2012-06-27 23:35:00  54.555557  62.444443  63.333332  59.222221  65.333336   \n",
       "2012-06-27 23:40:00  50.500000  62.000000  67.000000  65.250000  67.125000   \n",
       "2012-06-27 23:45:00  44.777779  64.222221  63.777779  59.777779  57.666668   \n",
       "2012-06-27 23:50:00  53.000000  64.285713  64.125000  60.875000  66.250000   \n",
       "2012-06-27 23:55:00  49.555557  65.777779  65.111115  63.000000  61.666668   \n",
       "\n",
       "nodes                ...     772167     769372     774204     769806  \\\n",
       "channels             ...          0          0          0          0   \n",
       "2012-03-01 00:00:00  ...  45.625000  65.500000  64.500000  66.428574   \n",
       "2012-03-01 00:05:00  ...  50.666668  69.875000  66.666664  58.555557   \n",
       "2012-03-01 00:10:00  ...  44.125000  69.000000  56.500000  59.250000   \n",
       "2012-03-01 00:15:00  ...  44.125000  69.000000  56.500000  59.250000   \n",
       "2012-03-01 00:20:00  ...  44.125000  69.000000  56.500000  59.250000   \n",
       "...                  ...        ...        ...        ...        ...   \n",
       "2012-06-27 23:35:00  ...  52.888889  69.000000  65.111115  55.666668   \n",
       "2012-06-27 23:40:00  ...  54.000000  69.250000  60.125000  60.500000   \n",
       "2012-06-27 23:45:00  ...  51.333332  67.888885  64.333336  57.000000   \n",
       "2012-06-27 23:50:00  ...  51.125000  69.375000  61.625000  60.500000   \n",
       "2012-06-27 23:55:00  ...  56.000000  67.444443  64.888885  60.888889   \n",
       "\n",
       "nodes                   717590     717592     717595     772168     718141  \\\n",
       "channels                     0          0          0          0          0   \n",
       "2012-03-01 00:00:00  66.875000  59.375000  69.000000  59.250000  69.000000   \n",
       "2012-03-01 00:05:00  62.000000  61.111111  64.444443  55.888889  68.444443   \n",
       "2012-03-01 00:10:00  68.125000  62.500000  65.625000  61.375000  69.857140   \n",
       "2012-03-01 00:15:00  68.125000  62.500000  65.625000  61.375000  69.857140   \n",
       "2012-03-01 00:20:00  68.125000  62.500000  65.625000  61.375000  69.857140   \n",
       "...                        ...        ...        ...        ...        ...   \n",
       "2012-06-27 23:35:00  66.333336  62.444443  66.777779  64.888885  69.666664   \n",
       "2012-06-27 23:40:00  67.250000  59.375000  66.000000  61.250000  69.000000   \n",
       "2012-06-27 23:45:00  66.000000  62.666668  68.666664  63.333332  67.444443   \n",
       "2012-06-27 23:50:00  65.625000  66.375000  69.500000  63.000000  67.875000   \n",
       "2012-06-27 23:55:00  64.222221  66.444443  68.444443  63.555557  68.666664   \n",
       "\n",
       "nodes                   769373  \n",
       "channels                     0  \n",
       "2012-03-01 00:00:00  61.875000  \n",
       "2012-03-01 00:05:00  62.875000  \n",
       "2012-03-01 00:10:00  62.000000  \n",
       "2012-03-01 00:15:00  62.000000  \n",
       "2012-03-01 00:20:00  62.000000  \n",
       "...                        ...  \n",
       "2012-06-27 23:35:00  62.333332  \n",
       "2012-06-27 23:40:00  62.000000  \n",
       "2012-06-27 23:45:00  61.222221  \n",
       "2012-06-27 23:50:00  63.500000  \n",
       "2012-06-27 23:55:00  61.777779  \n",
       "\n",
       "[34272 rows x 207 columns]>"
      ]
     },
     "execution_count": 16,
     "metadata": {},
     "output_type": "execute_result"
    }
   ],
   "source": [
    "df = pd.DataFrame(dataset.dataframe())\n",
    "# print(df.head())\n",
    "df.info"
   ]
  },
  {
   "cell_type": "code",
   "execution_count": 17,
   "metadata": {},
   "outputs": [
    {
     "name": "stdout",
     "output_type": "stream",
     "text": [
      "(34272, 207)\n",
      "MultiIndex([('773869', 0),\n",
      "            ('767541', 0),\n",
      "            ('767542', 0),\n",
      "            ('717447', 0),\n",
      "            ('717446', 0),\n",
      "            ('717445', 0),\n",
      "            ('773062', 0),\n",
      "            ('767620', 0),\n",
      "            ('737529', 0),\n",
      "            ('717816', 0),\n",
      "            ...\n",
      "            ('772167', 0),\n",
      "            ('769372', 0),\n",
      "            ('774204', 0),\n",
      "            ('769806', 0),\n",
      "            ('717590', 0),\n",
      "            ('717592', 0),\n",
      "            ('717595', 0),\n",
      "            ('772168', 0),\n",
      "            ('718141', 0),\n",
      "            ('769373', 0)],\n",
      "           names=['nodes', 'channels'], length=207)\n",
      "Index(['773869', '767541', '767542', '717447', '717446', '717445', '773062',\n",
      "       '767620', '737529', '717816',\n",
      "       ...\n",
      "       '772167', '769372', '774204', '769806', '717590', '717592', '717595',\n",
      "       '772168', '718141', '769373'],\n",
      "      dtype='object', length=207)\n"
     ]
    }
   ],
   "source": [
    "print(df.shape)\n",
    "print(df.columns)\n",
    "df.columns = [str(tup[0]) for tup in df.columns]\n",
    "print(df.columns)"
   ]
  },
  {
   "cell_type": "code",
   "execution_count": 18,
   "metadata": {},
   "outputs": [
    {
     "data": {
      "text/plain": [
       "DatetimeIndex(['2012-03-01 00:00:00', '2012-03-01 00:05:00',\n",
       "               '2012-03-01 00:10:00', '2012-03-01 00:15:00',\n",
       "               '2012-03-01 00:20:00', '2012-03-01 00:25:00',\n",
       "               '2012-03-01 00:30:00', '2012-03-01 00:35:00',\n",
       "               '2012-03-01 00:40:00', '2012-03-01 00:45:00',\n",
       "               ...\n",
       "               '2012-06-27 23:10:00', '2012-06-27 23:15:00',\n",
       "               '2012-06-27 23:20:00', '2012-06-27 23:25:00',\n",
       "               '2012-06-27 23:30:00', '2012-06-27 23:35:00',\n",
       "               '2012-06-27 23:40:00', '2012-06-27 23:45:00',\n",
       "               '2012-06-27 23:50:00', '2012-06-27 23:55:00'],\n",
       "              dtype='datetime64[ns]', length=34272, freq='5T')"
      ]
     },
     "execution_count": 18,
     "metadata": {},
     "output_type": "execute_result"
    }
   ],
   "source": [
    "df.index"
   ]
  },
  {
   "cell_type": "code",
   "execution_count": 19,
   "metadata": {},
   "outputs": [],
   "source": [
    "def create_random_mask(df, mask_percentage=20):\n",
    "    total_elements = df.size\n",
    "    mask_count = int(total_elements * mask_percentage / 100)\n",
    "    mask_indices = np.random.choice(total_elements, mask_count, replace=False)\n",
    "    mask = np.zeros(total_elements, dtype=bool)\n",
    "    mask[mask_indices] = True\n",
    "    mask = mask.reshape(df.shape)\n",
    "    return mask\n",
    "\n",
    "def create_sequential_mask(df, max_downtime, probability=0.001):\n",
    "    mask = np.zeros(df.shape, dtype=bool)\n",
    "    timesteps = df.shape[0]\n",
    "    i = 0\n",
    "    while i < timesteps:\n",
    "        if np.random.rand() < probability:\n",
    "            downtime = np.random.randint(0, max_downtime + 1)\n",
    "            mask[i:min(i + downtime, timesteps), :] = True\n",
    "            i += downtime\n",
    "        else:\n",
    "            i += 1\n",
    "    return mask"
   ]
  },
  {
   "cell_type": "code",
   "execution_count": 20,
   "metadata": {},
   "outputs": [
    {
     "name": "stdout",
     "output_type": "stream",
     "text": [
      "(34272, 207)\n"
     ]
    }
   ],
   "source": [
    "\n",
    "max_downtime = 12*24 # Equivalent to 24 hours\n",
    "random_mask = create_random_mask(df)\n",
    "sequential_mask = create_sequential_mask(df, probability=0.002, max_downtime = max_downtime)\n",
    "print(sequential_mask.shape)\n",
    "num_timesteps = df.shape[0]\n",
    "num_stations = df.shape[1]\n"
   ]
  },
  {
   "cell_type": "code",
   "execution_count": 21,
   "metadata": {},
   "outputs": [
    {
     "name": "stdout",
     "output_type": "stream",
     "text": [
      "<class 'pandas.core.frame.DataFrame'>\n",
      "Random mask: 1418860 NaNs out of 7094304 (20.00%)\n",
      "Sequential mask: 1984923 NaNs out of 7094304 (27.98%)\n"
     ]
    }
   ],
   "source": [
    "random_masked_df = df.mask(random_mask)\n",
    "print(type(random_masked_df))\n",
    "sequential_masked_df = df.mask(sequential_mask)\n",
    "nan_count_sequential = sequential_masked_df.isna().sum().sum()\n",
    "count = random_masked_df.shape[0] * random_masked_df.shape[1]\n",
    "nan_count_random = random_masked_df.isna().sum().sum()\n",
    "print(f\"Random mask: {nan_count_random} NaNs out of {count} ({nan_count_random/count*100:.2f}%)\")\n",
    "print(f\"Sequential mask: {nan_count_sequential} NaNs out of {count} ({nan_count_sequential/count*100:.2f}%)\")\n"
   ]
  },
  {
   "cell_type": "code",
   "execution_count": 22,
   "metadata": {},
   "outputs": [],
   "source": [
    "random_mask = pd.DataFrame(random_mask)\n",
    "sequential_mask = pd.DataFrame(sequential_mask)\n",
    "# print(random_mask)\n",
    "dataframes_to_save = {'random_mask': random_mask, 'sequential_mask': sequential_mask, 'original_df': df, 'random_masked_df': random_masked_df, 'sequential_masked_df': sequential_masked_df}\n",
    "folder_name = 'data'\n",
    "import os\n",
    "# Check if the folder exists, and if not, create it\n",
    "# if not os.path.exists(folder_name):\n",
    "#     os.makedirs(folder_name)\n",
    "# for name, df in dataframes_to_save.items():\n",
    "#     filename = f'{name}.csv'\n",
    "#     df.to_csv(os.path.join(folder_name, filename), index=False)"
   ]
  },
  {
   "cell_type": "code",
   "execution_count": 23,
   "metadata": {},
   "outputs": [],
   "source": [
    "from sklearn.impute import SimpleImputer\n",
    "from sklearn.metrics import mean_squared_error\n",
    "\n",
    "# Define imputers\n",
    "mean_imputer = SimpleImputer(strategy='mean')\n",
    "median_imputer = SimpleImputer(strategy='median')\n",
    "frequent_imputer = SimpleImputer(strategy='most_frequent')\n",
    "\n",
    "# Apply imputation and calculate performance\n",
    "performance_metrics = {}\n",
    "for imputer, name in [(mean_imputer, 'Mean'), (median_imputer, 'Median'), (frequent_imputer, 'Most Frequent')]:\n",
    "    imputed_data = imputer.fit_transform(random_masked_df)\n",
    "    # Assuming 'original_data' is the original DataFrame without missing values\n",
    "    mse = mean_squared_error(df, imputed_data)\n",
    "    performance_metrics[name] = mse\n"
   ]
  },
  {
   "cell_type": "code",
   "execution_count": null,
   "metadata": {},
   "outputs": [
    {
     "name": "stdout",
     "output_type": "stream",
     "text": [
      "{'Mean': 26.610064, 'Median': 31.113073, 'Most Frequent': 47.990116}\n"
     ]
    }
   ],
   "source": [
    "print(performance_metrics)"
   ]
  },
  {
   "cell_type": "code",
   "execution_count": null,
   "metadata": {},
   "outputs": [],
   "source": [
    "class KNNImpute():\n",
    "    def __init__(self, k = 3, masked_df = None, distances = None):\n",
    "        self.k = k\n",
    "        self.masked_df = masked_df\n",
    "        self.distances = distances\n",
    "        self.stations = len(masked_df.columns)\n",
    "        self.timesteps = len(masked_df.index)\n",
    "        if not self.masked_df or not self.distances:\n",
    "            raise Exception('masked_df and distances must be provided')\n",
    "        self.knn_df = self.calulate_knn()\n",
    "    \n",
    "    def calulate_knn(self):\n",
    "        nearest_neighbors_df = pd.DataFrame(index=df.index, columns=df.columns)\n",
    "\n",
    "        for index, row in df.iterrows():\n",
    "            # Sort the row while keeping track of the indices, and take the first k+1 indices (including the node itself)\n",
    "            sorted_indices = row.argsort()[:k+1]\n",
    "            \n",
    "            # Exclude the node itself from its list of nearest neighbors\n",
    "            nearest_neighbors = [idx for idx in sorted_indices if idx != index][:self.k]\n",
    "            nearest_neighbors = [neighbor for neighbor in nearest_neighbors if not np.isnan(row[neighbor])]\n",
    "            \n",
    "            # Assign this list to the corresponding cell in the new DataFrame\n",
    "            nearest_neighbors_df.loc[index] = nearest_neighbors\n",
    "\n",
    "        return nearest_neighbors_df\n",
    "\n",
    "    def get_knn(self, row, col):\n",
    "        return self.knn_df.loc[row, col]\n",
    "    \n",
    "    def get_knn_df(self):\n",
    "        return self.knn_df\n",
    "\n",
    "    def fit(self, X):\n",
    "        self.X = X\n",
    "    \n",
    "    def predict(self, X):\n",
    "        pass"
   ]
  },
  {
   "cell_type": "code",
   "execution_count": 84,
   "metadata": {},
   "outputs": [
    {
     "name": "stdout",
     "output_type": "stream",
     "text": [
      "2012-03-01 00:00:00 773869    64.375\n",
      "767541    67.625\n",
      "767542    67.125\n",
      "717447    61.500\n",
      "717446    66.875\n",
      "           ...  \n",
      "717592    59.375\n",
      "717595    69.000\n",
      "772168    59.250\n",
      "718141    69.000\n",
      "769373    61.875\n",
      "Name: 2012-03-01 00:00:00, Length: 207, dtype: float32 773869\n"
     ]
    }
   ],
   "source": [
    "for index, row in df.iterrows():\n",
    "    for col_name in df.columns:\n",
    "        print(index, row, col_name)\n",
    "        break\n",
    "    break"
   ]
  },
  {
   "cell_type": "code",
   "execution_count": null,
   "metadata": {},
   "outputs": [],
   "source": []
  }
 ],
 "metadata": {
  "kernelspec": {
   "display_name": "Python 3",
   "language": "python",
   "name": "python3"
  },
  "language_info": {
   "codemirror_mode": {
    "name": "ipython",
    "version": 3
   },
   "file_extension": ".py",
   "mimetype": "text/x-python",
   "name": "python",
   "nbconvert_exporter": "python",
   "pygments_lexer": "ipython3",
   "version": "3.8.16"
  }
 },
 "nbformat": 4,
 "nbformat_minor": 2
}
